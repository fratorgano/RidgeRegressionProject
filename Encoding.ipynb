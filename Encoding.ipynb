{
 "cells": [
  {
   "cell_type": "code",
   "execution_count": 1,
   "id": "d19c5522-30c9-4577-bd38-6091d3d6b29d",
   "metadata": {
    "execution": {
     "iopub.execute_input": "2023-08-12T15:36:23.512266Z",
     "iopub.status.busy": "2023-08-12T15:36:23.511648Z",
     "iopub.status.idle": "2023-08-12T15:36:25.039657Z",
     "shell.execute_reply": "2023-08-12T15:36:25.038821Z",
     "shell.execute_reply.started": "2023-08-12T15:36:23.512245Z"
    }
   },
   "outputs": [],
   "source": [
    "import pandas as pd\n",
    "import category_encoders as ce\n",
    "\n",
    "from sklearn.model_selection import KFold\n",
    "from sklearn.preprocessing import StandardScaler\n",
    "\n",
    "from itables import show\n",
    "from ridgeReg import RidgeReg"
   ]
  },
  {
   "cell_type": "code",
   "execution_count": 2,
   "id": "7569d0d9-4835-493b-9a66-59e5d0c12c4d",
   "metadata": {
    "execution": {
     "iopub.execute_input": "2023-08-12T15:46:37.816306Z",
     "iopub.status.busy": "2023-08-12T15:46:37.815676Z",
     "iopub.status.idle": "2023-08-12T15:46:38.181722Z",
     "shell.execute_reply": "2023-08-12T15:46:38.180934Z",
     "shell.execute_reply.started": "2023-08-12T15:46:37.816267Z"
    }
   },
   "outputs": [],
   "source": [
    "df = pd.read_csv(\"dataset.csv\", index_col=0)\n",
    "df = df.drop('track_id',axis=1)\n",
    "df[\"explicit\"] = df[\"explicit\"].astype(int)"
   ]
  },
  {
   "cell_type": "code",
   "execution_count": 3,
   "id": "03b7afd6",
   "metadata": {},
   "outputs": [],
   "source": [
    "def test_train_split(df,random_state=1):\n",
    "  df_train = df.sample(frac=0.8,random_state=random_state)\n",
    "  df_train_x = df_train.drop('popularity',axis=1)\n",
    "  df_train_y = df_train['popularity']\n",
    "\n",
    "  df_test = df.drop(df_train.index)\n",
    "  df_test_x = df_test.drop('popularity',axis=1)\n",
    "  df_test_y = df_test['popularity']\n",
    "  return (df_train_x,df_train_y,df_test_x,df_test_y)"
   ]
  },
  {
   "cell_type": "code",
   "execution_count": 4,
   "id": "7af40d36",
   "metadata": {},
   "outputs": [],
   "source": [
    "def test_my_ridge(train_x,train_y,test_x,test_y,alpha=0,print_pred=False):\n",
    "  ridge = RidgeReg(alpha)\n",
    "  print('Training ridge regression...')\n",
    "  ridge.fit(train_x,train_y)\n",
    "\n",
    "  print('Predicting values...')\n",
    "  pred = ridge.predict(test_x)\n",
    "  if(print_pred):\n",
    "    print('Predictions: ')\n",
    "    print([(x,y) for (x,y) in zip(test_y,pred)])\n",
    "  pred_train = ridge.predict(train_x)\n",
    "\n",
    "  score_test = ridge.r2_score(test_y,pred)\n",
    "  mse_test = ridge.mse(test_y,pred)\n",
    "  score_train = ridge.r2_score(train_y,pred_train)\n",
    "  mse_train = ridge.mse(train_y,pred_train)\n",
    "  print(f'R2 score: {score_train, score_test}')\n",
    "  print(f'MSE: {mse_train, mse_test}')\n",
    "  return score_train,score_test,mse_train,mse_test"
   ]
  },
  {
   "cell_type": "code",
   "execution_count": 5,
   "id": "f18c8f5b",
   "metadata": {},
   "outputs": [],
   "source": [
    "def k_fold_testing(df,encoder,alpha=0,random_state=1):\n",
    "  X = df.drop('popularity',axis=1)\n",
    "  y = df['popularity']\n",
    "  kf = KFold(n_splits=5,shuffle=True,random_state=random_state)\n",
    "  train_scores = []\n",
    "  test_scores = []\n",
    "  train_mse = []\n",
    "  test_mse = []\n",
    "  for (train_index,test_index) in kf.split(df):\n",
    "    X_train = X.iloc[train_index]\n",
    "    y_train = y.iloc[train_index]\n",
    "    X_test = X.iloc[test_index]\n",
    "    y_test = y.iloc[test_index]\n",
    "\n",
    "    if(encoder.needs_y):\n",
    "      enc = encoder.fit(X_train,y_train)\n",
    "    else:\n",
    "      enc = encoder.fit(X_train)\n",
    "    \n",
    "    df_train_x = enc.transform(X_train)\n",
    "    df_test_x = enc.transform(X_test)\n",
    "\n",
    "    scaler = StandardScaler()\n",
    "    scaler.fit(df_train_x)\n",
    "    df_train_x = pd.DataFrame(scaler.transform(df_train_x),columns=df_train_x.columns)\n",
    "    df_test_x = pd.DataFrame(scaler.transform(df_test_x),columns=df_test_x.columns)\n",
    "\n",
    "    #enc2 = ce.OneHotEncoder(cols=['track_genre']).fit(bin_df_train_x)\n",
    "    #bin_df_train_x = enc2.transform(bin_df_train_x)\n",
    "    #bin_df_test_x = enc2.transform(bin_df_test_x)\n",
    "    score = test_my_ridge(df_train_x,y_train,df_test_x,y_test,alpha)\n",
    "    train_scores.append(score[0])\n",
    "    test_scores.append(score[1])\n",
    "    train_mse.append(score[2])\n",
    "    test_mse.append(score[3])\n",
    "  print(train_scores)\n",
    "  print(sum(train_scores)/len(train_scores)) # 0.014007646151338538\n",
    "  print(test_scores)\n",
    "  print(sum(test_scores)/len(test_scores)) # -0.0378098150148428\n",
    "  print(train_mse)\n",
    "  print(sum(train_mse)/len(train_mse))\n",
    "  print(test_mse)\n",
    "  print(sum(test_mse)/len(test_mse))\n",
    "  return (train_scores,test_scores,train_mse,test_mse)\n"
   ]
  },
  {
   "cell_type": "markdown",
   "id": "15d4eaf9-5779-4106-80d1-1e685969abb0",
   "metadata": {},
   "source": [
    "# One Hot Encoder"
   ]
  },
  {
   "cell_type": "code",
   "execution_count": 6,
   "id": "9f949b0f-d252-4c8d-8861-46c85ed6225b",
   "metadata": {
    "execution": {
     "iopub.execute_input": "2023-08-12T15:36:49.540305Z",
     "iopub.status.busy": "2023-08-12T15:36:49.539538Z",
     "iopub.status.idle": "2023-08-12T15:36:49.597641Z",
     "shell.execute_reply": "2023-08-12T15:36:49.596852Z",
     "shell.execute_reply.started": "2023-08-12T15:36:49.540285Z"
    }
   },
   "outputs": [],
   "source": [
    "#enc = ce.OneHotEncoder(cols=['artists']).fit(df)\n",
    "#genre = enc.transform(df)\n",
    "#genre"
   ]
  },
  {
   "cell_type": "markdown",
   "id": "bf65d8ca-6e1e-494c-993d-25ba8eb52dd9",
   "metadata": {},
   "source": [
    "# Binary encoder"
   ]
  },
  {
   "cell_type": "code",
   "execution_count": 7,
   "id": "66f7f604",
   "metadata": {},
   "outputs": [
    {
     "name": "stdout",
     "output_type": "stream",
     "text": [
      "Training ridge regression...\n",
      "Predicting values...\n",
      "R2 score: (0.19083810970745096, -0.15175128359823153)\n",
      "MSE: (402.2860751678762, 574.6145497372029)\n",
      "Training ridge regression...\n",
      "Predicting values...\n",
      "R2 score: (0.19677440017030579, -0.17163943410379412)\n",
      "MSE: (399.3093031488546, 584.612555837934)\n",
      "Training ridge regression...\n",
      "Predicting values...\n",
      "R2 score: (0.19532022590275322, -0.13973137289006332)\n",
      "MSE: (400.61142497303945, 565.4778886000514)\n",
      "Training ridge regression...\n",
      "Predicting values...\n",
      "R2 score: (0.19569767933551707, -0.15120508615360273)\n",
      "MSE: (399.47897982378123, 576.4475093976561)\n",
      "Training ridge regression...\n",
      "Predicting values...\n",
      "R2 score: (0.1925646187605029, -0.15523665163262224)\n",
      "MSE: (402.6880459135743, 569.1124372318458)\n",
      "[0.19083810970745096, 0.19677440017030579, 0.19532022590275322, 0.19569767933551707, 0.1925646187605029]\n",
      "0.19423900677530598\n",
      "[-0.15175128359823153, -0.17163943410379412, -0.13973137289006332, -0.15120508615360273, -0.15523665163262224]\n",
      "-0.15391276567566278\n",
      "[402.2860751678762, 399.3093031488546, 400.61142497303945, 399.47897982378123, 402.6880459135743]\n",
      "400.87476580542517\n",
      "[574.6145497372029, 584.612555837934, 565.4778886000514, 576.4475093976561, 569.1124372318458]\n",
      "574.0529881609381\n"
     ]
    }
   ],
   "source": [
    "encoder = ce.BinaryEncoder(cols=['artists','track_name','album_name','track_genre'])\n",
    "encoder.needs_y = False\n",
    "bin_train_r2,bin_test_r2,bin_train_mse,bin_test_mse = k_fold_testing(df,encoder,0,1)"
   ]
  },
  {
   "cell_type": "markdown",
   "id": "ff40ebf1",
   "metadata": {},
   "source": [
    "# Ordinal encoder"
   ]
  },
  {
   "cell_type": "code",
   "execution_count": 8,
   "id": "1f2912bd",
   "metadata": {},
   "outputs": [
    {
     "name": "stdout",
     "output_type": "stream",
     "text": [
      "Training ridge regression...\n",
      "Predicting values...\n",
      "R2 score: (0.14377365867285752, -0.11132785929312305)\n",
      "MSE: (425.684820850019, 554.4470985811263)\n",
      "Training ridge regression...\n",
      "Predicting values...\n",
      "R2 score: (0.14656445483773162, -0.10973250790879874)\n",
      "MSE: (424.27028333442547, 553.7228765616385)\n",
      "Training ridge regression...\n",
      "Predicting values...\n",
      "R2 score: (0.14720422656249754, -0.10512557608770479)\n",
      "MSE: (424.56607088336665, 548.3082174173597)\n",
      "Training ridge regression...\n",
      "Predicting values...\n",
      "R2 score: (0.1468420482497793, -0.11289341706486611)\n",
      "MSE: (423.74447945413607, 557.2635546942778)\n",
      "Training ridge regression...\n",
      "Predicting values...\n",
      "R2 score: (0.14614199061997546, -0.11525196403135674)\n",
      "MSE: (425.8401616697411, 549.4144965713319)\n",
      "[0.14377365867285752, 0.14656445483773162, 0.14720422656249754, 0.1468420482497793, 0.14614199061997546]\n",
      "0.1461052757885683\n",
      "[-0.11132785929312305, -0.10973250790879874, -0.10512557608770479, -0.11289341706486611, -0.11525196403135674]\n",
      "-0.11086626487716988\n",
      "[425.684820850019, 424.27028333442547, 424.56607088336665, 423.74447945413607, 425.8401616697411]\n",
      "424.8211632383377\n",
      "[554.4470985811263, 553.7228765616385, 548.3082174173597, 557.2635546942778, 549.4144965713319]\n",
      "552.6312487651469\n"
     ]
    }
   ],
   "source": [
    "encoder = ce.OrdinalEncoder(cols=['artists','track_name','album_name','track_genre'])\n",
    "encoder.needs_y = False\n",
    "ord_train_r2,ord_test_r2,ord_train_mse,ord_test_mse = k_fold_testing(df,encoder,0,1)"
   ]
  },
  {
   "cell_type": "markdown",
   "id": "f436888c",
   "metadata": {},
   "source": [
    "# Target Encoder"
   ]
  },
  {
   "cell_type": "code",
   "execution_count": 9,
   "id": "ad7218f8",
   "metadata": {},
   "outputs": [
    {
     "name": "stdout",
     "output_type": "stream",
     "text": [
      "Training ridge regression...\n",
      "Predicting values...\n",
      "R2 score: (0.7373190149199436, 0.6464286729689759)\n",
      "MSE: (130.59550106948535, 176.39852611858566)\n",
      "Training ridge regression...\n",
      "Predicting values...\n",
      "R2 score: (0.7388173300106382, 0.6449638564151773)\n",
      "MSE: (129.84231325560614, 177.15227165832962)\n",
      "Training ridge regression...\n",
      "Predicting values...\n",
      "R2 score: (0.7391395375751739, 0.6413950601877361)\n",
      "MSE: (129.8698997229998, 177.9218937286792)\n",
      "Training ridge regression...\n",
      "Predicting values...\n",
      "R2 score: (0.7363277064832751, 0.6479116365698272)\n",
      "MSE: (130.96013291971747, 176.3026090037091)\n",
      "Training ridge regression...\n",
      "Predicting values...\n",
      "R2 score: (0.7357350284209967, 0.65165886727977)\n",
      "MSE: (131.79549408052316, 171.60576644650652)\n",
      "[0.7373190149199436, 0.7388173300106382, 0.7391395375751739, 0.7363277064832751, 0.7357350284209967]\n",
      "0.7374677234820055\n",
      "[0.6464286729689759, 0.6449638564151773, 0.6413950601877361, 0.6479116365698272, 0.65165886727977]\n",
      "0.6464716186842973\n",
      "[130.59550106948535, 129.84231325560614, 129.8698997229998, 130.96013291971747, 131.79549408052316]\n",
      "130.6126682096664\n",
      "[176.39852611858566, 177.15227165832962, 177.9218937286792, 176.3026090037091, 171.60576644650652]\n",
      "175.87621339116203\n"
     ]
    }
   ],
   "source": [
    "encoder = ce.TargetEncoder(cols=['artists','track_name','album_name','track_genre'])\n",
    "encoder.needs_y = True\n",
    "tgt_train_r2,tgt_test_r2,tgt_train_mse,tgt_test_mse = k_fold_testing(df,encoder,0,1)"
   ]
  },
  {
   "cell_type": "markdown",
   "id": "495f352e",
   "metadata": {},
   "source": [
    "# Cat Boost Encoder"
   ]
  },
  {
   "cell_type": "code",
   "execution_count": 10,
   "id": "ae9046e2",
   "metadata": {},
   "outputs": [
    {
     "name": "stdout",
     "output_type": "stream",
     "text": [
      "Training ridge regression...\n",
      "Predicting values...\n",
      "R2 score: (0.8189643604849826, 0.7224156125320603)\n",
      "MSE: (90.00438325101068, 138.48825704856574)\n",
      "Training ridge regression...\n",
      "Predicting values...\n",
      "R2 score: (0.8192476501909992, 0.7181535460071109)\n",
      "MSE: (89.85781187757638, 140.63283551793185)\n",
      "Training ridge regression...\n",
      "Predicting values...\n",
      "R2 score: (0.8200502974913257, 0.7145435180642336)\n",
      "MSE: (89.58831707476516, 141.62927557475084)\n",
      "Training ridge regression...\n",
      "Predicting values...\n",
      "R2 score: (0.8187813788195157, 0.7174553280405134)\n",
      "MSE: (90.00723739606256, 141.47971929902693)\n",
      "Training ridge regression...\n",
      "Predicting values...\n",
      "R2 score: (0.8186146377114938, 0.7237057264940332)\n",
      "MSE: (90.46137783206589, 136.11281044967035)\n",
      "[0.8189643604849826, 0.8192476501909992, 0.8200502974913257, 0.8187813788195157, 0.8186146377114938]\n",
      "0.8191316649396633\n",
      "[0.7224156125320603, 0.7181535460071109, 0.7145435180642336, 0.7174553280405134, 0.7237057264940332]\n",
      "0.7192547462275903\n",
      "[90.00438325101068, 89.85781187757638, 89.58831707476516, 90.00723739606256, 90.46137783206589]\n",
      "89.98382548629613\n",
      "[138.48825704856574, 140.63283551793185, 141.62927557475084, 141.47971929902693, 136.11281044967035]\n",
      "139.66857957798916\n"
     ]
    }
   ],
   "source": [
    "encoder = ce.CatBoostEncoder(cols=['artists','track_name','album_name','track_genre'])\n",
    "encoder.needs_y = True\n",
    "cat_train_r2,cat_test_r2,cat_train_mse,cat_test_mse = k_fold_testing(df,encoder,0,1) "
   ]
  },
  {
   "cell_type": "code",
   "execution_count": 11,
   "id": "12b0166e",
   "metadata": {},
   "outputs": [
    {
     "data": {
      "image/png": "[encoded data removed]",
      "text/plain": [
       "<Figure size 1000x500 with 1 Axes>"
      ]
     },
     "metadata": {},
     "output_type": "display_data"
    }
   ],
   "source": [
    "import matplotlib.pyplot as plt\n",
    "import numpy as np\n",
    "\n",
    "train_r2 = [bin_train_r2,ord_train_r2,tgt_train_r2,cat_train_r2]\n",
    "test_r2 = [bin_test_r2]\n",
    "train_mse = [bin_train_mse]\n",
    "test_mse = [bin_test_mse]\n",
    "data = {\n",
    "  'Train R²': (list(map(np.mean,[bin_train_r2,ord_train_r2,tgt_train_r2,cat_train_r2])),'green'),\n",
    "  'Test R²': (list(map(np.mean,[bin_test_r2,ord_test_r2,tgt_test_r2,cat_test_r2])),'red'),\n",
    "}\n",
    "x = np.arange(4)\n",
    "width = 0.33\n",
    "multiplier = 0\n",
    "plt.rcParams[\"figure.figsize\"] = (10,5)\n",
    "fig,ax = plt.subplots()\n",
    "for attribute,(measurements,color) in data.items():\n",
    "  offset = width*multiplier\n",
    "  rects = ax.bar(x+offset,measurements,width,label=attribute,color=color)\n",
    "  ax.bar_label(rects, padding=1,fmt='%.3f')\n",
    "  multiplier+=1\n",
    "ax.axhline(0,color='#373737',linewidth=0.7) # x = 0\n",
    "ax.set_xticks(x+width/2, ['Binary','Ordinal','Target','CatBoost'])\n",
    "ax.legend(loc='upper left', ncols=3)\n",
    "ax.set_title('Comparison of R² scores with different encodings')\n",
    "plt.show()\n"
   ]
  },
  {
   "cell_type": "code",
   "execution_count": 12,
   "id": "e00e53ca",
   "metadata": {},
   "outputs": [
    {
     "data": {
      "image/png": "[encoded data removed]",
      "text/plain": [
       "<Figure size 1000x500 with 1 Axes>"
      ]
     },
     "metadata": {},
     "output_type": "display_data"
    }
   ],
   "source": [
    "import matplotlib.pyplot as plt\n",
    "import numpy as np\n",
    "\n",
    "train_r2 = [bin_train_r2,ord_train_r2,tgt_train_r2,cat_train_r2]\n",
    "test_r2 = [bin_test_r2]\n",
    "train_mse = [bin_train_mse]\n",
    "test_mse = [bin_test_mse]\n",
    "data = {\n",
    "  'Train MSE': (list(map(np.mean,[bin_train_mse,ord_train_mse,tgt_train_mse,cat_train_mse])),'lightgreen'),\n",
    "  'Test MSE': (list(map(np.mean,[bin_test_mse,ord_test_mse,tgt_test_mse,cat_test_mse])),'lightcoral'),\n",
    "}\n",
    "x = np.arange(4)\n",
    "width = 0.33\n",
    "multiplier = 0\n",
    "plt.rcParams[\"figure.figsize\"] = (10,5)\n",
    "fig,ax = plt.subplots()\n",
    "for attribute,(measurements,color) in data.items():\n",
    "  offset = width*multiplier\n",
    "  rects = ax.bar(x+offset,measurements,width,label=attribute,color=color)\n",
    "  ax.bar_label(rects, padding=1,fmt='%.3f')\n",
    "  multiplier+=1\n",
    "ax.axhline(0,color='#373737',linewidth=0.7) # x = 0\n",
    "ax.set_xticks(x+width/2, ['Binary','Ordinal','Target','CatBoost'])\n",
    "ax.legend(loc='upper left', ncols=3)\n",
    "ax.set_title('Comparison of MSE with different encodings')\n",
    "plt.show()\n"
   ]
  },
  {
   "cell_type": "code",
   "execution_count": 13,
   "id": "353d1bb9",
   "metadata": {},
   "outputs": [],
   "source": [
    "#encoder = ce.BaseNEncoder(cols=['artists','track_name','album_name','track_genre'],base=2)\n",
    "#encoder.needs_y = False\n",
    "#tgt_train_r2,tgt_test_r2,tgt_train_mse,tgt_test_mse = k_fold_testing(df,encoder,0,1)"
   ]
  },
  {
   "cell_type": "markdown",
   "id": "28faed66",
   "metadata": {},
   "source": [
    "Failed: Backward Difference, Helmert, Polynomial, Sum"
   ]
  }
 ],
 "metadata": {
  "kernelspec": {
   "display_name": "Python 3 (ipykernel)",
   "language": "python",
   "name": "python3"
  },
  "language_info": {
   "codemirror_mode": {
    "name": "ipython",
    "version": 3
   },
   "file_extension": ".py",
   "mimetype": "text/x-python",
   "name": "python",
   "nbconvert_exporter": "python",
   "pygments_lexer": "ipython3",
   "version": "3.10.12"
  }
 },
 "nbformat": 4,
 "nbformat_minor": 5
}
